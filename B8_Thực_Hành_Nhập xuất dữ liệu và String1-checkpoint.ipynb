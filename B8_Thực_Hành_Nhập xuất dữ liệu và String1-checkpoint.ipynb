{
 "cells": [
  {
   "cell_type": "code",
   "execution_count": 5,
   "id": "c4500382",
   "metadata": {},
   "outputs": [
    {
     "name": "stdout",
     "output_type": "stream",
     "text": [
      "Tôi\n",
      "Titíh\n",
      "T í   c\n",
      "Titíhđ ulc\n",
      "hcịl ud iđ hcíht iôT\n"
     ]
    }
   ],
   "source": [
    "# cắt string theo index\n",
    "# cú pháp : <tên biến > [start:end:step]\n",
    "text = \"Tôi thích đi du lịch\"\n",
    "print(text[0:3])\n",
    "print(text[0:10:2])\n",
    "print(text[0:len(text):3])#mỗi 3 bước cách cho mình 1 chữ\n",
    "print(text[: : 2]) #start default là 0 , end default là len(text) ,step có thể đi từ giá trị âm\n",
    "print(text[: : -1])# in ngược lại đoạn văn bản "
   ]
  },
  {
   "cell_type": "code",
   "execution_count": 7,
   "id": "493419fb",
   "metadata": {},
   "outputs": [
    {
     "name": "stdout",
     "output_type": "stream",
     "text": [
      "python Căn bản\n",
      "python Căn bảnpython Căn bảnpython Căn bản\n"
     ]
    }
   ],
   "source": [
    "# ghep chuỗi và lặp chuỗi \n",
    "text = \"python\"\n",
    "text1 =\"Căn bản\"\n",
    "text2 = text + \" \" + text1\n",
    "print(text2)\n",
    "print(text2 * 3)\n"
   ]
  },
  {
   "cell_type": "code",
   "execution_count": 8,
   "id": "ce8e459a",
   "metadata": {},
   "outputs": [
    {
     "name": "stdout",
     "output_type": "stream",
     "text": [
      "3\n",
      "1\n"
     ]
    }
   ],
   "source": [
    "# count\n",
    "content = \"Lớp học python căn bản buổi 8\"\n",
    "print(content.count(\"n\"))\n",
    "print(content.count(\"python\"))"
   ]
  },
  {
   "cell_type": "markdown",
   "id": "b6a2b340",
   "metadata": {},
   "source": [
    "#### thực hành xử lý và in ra các thông tin tương ứng trong chuỗi "
   ]
  },
  {
   "cell_type": "code",
   "execution_count": 15,
   "id": "b1467f87",
   "metadata": {},
   "outputs": [
    {
     "name": "stdout",
     "output_type": "stream",
     "text": [
      "Lớp học \n",
      "python \n",
      "căn bản \n",
      "buổi 8\n"
     ]
    }
   ],
   "source": [
    "content = \"Lớp học python căn bản buổi 8\"\n",
    "# in ra 2 chữ :lớp học\n",
    "print(content[0:8])\n",
    "# in ra 2 chữ: python\n",
    "print(content[8:15])\n",
    "# in ra 2 chữ: căn bản\n",
    "print(content[15:23])\n",
    "# in ra chữ : buổi 8\n",
    "print(content[-6:])"
   ]
  },
  {
   "cell_type": "markdown",
   "id": "ac31fbb3",
   "metadata": {},
   "source": [
    "# Bài Tập thực hành"
   ]
  },
  {
   "cell_type": "markdown",
   "id": "4ec0a0d3",
   "metadata": {},
   "source": [
    "## Bài Tập 1"
   ]
  },
  {
   "cell_type": "markdown",
   "id": "ca31248e",
   "metadata": {},
   "source": [
    "Giả sử một chiếc ô tô có vận tốc ban đầu v0, gia tốc a và thời gian t.</p>\n",
    "Viết chương trình python để tìm vận tốc cuối cùng của ô tô và in kết quả ra màn hình.</p>\n",
    "Sử dụng lệnh ép kiểu input() để nhập các giá trị tương ứng cho v0, a và t.</p>\n",
    "Dùng công thức v = v0 + a.t để tính vận tốc cuối cùng"
   ]
  },
  {
   "cell_type": "code",
   "execution_count": 30,
   "id": "aa8f4dde",
   "metadata": {},
   "outputs": [
    {
     "name": "stdout",
     "output_type": "stream",
     "text": [
      "Nhập vận tốc ban đầu v0: 1\n",
      "Nhập gia tốc a: 2\n",
      "Nhập thời gian t: 2\n",
      "Vận tốc cuối cùng:  5\n"
     ]
    }
   ],
   "source": [
    "v0 = int(input(\"Nhập vận tốc ban đầu v0: \"))\n",
    "a = int(input(\"Nhập gia tốc a: \"))\n",
    "t = int(input(\"Nhập thời gian t: \"))\n",
    "print(\"Vận tốc cuối cùng: \", v0 + (a*t))\n"
   ]
  },
  {
   "cell_type": "markdown",
   "id": "8b02bcd4",
   "metadata": {},
   "source": [
    "## Bài tập 2"
   ]
  },
  {
   "cell_type": "markdown",
   "id": "ab6b37b6",
   "metadata": {},
   "source": [
    "Viết chương trình để nhập điểm kiểm tra, điểm thi giữa kỳ, điểm thi cuối kỳ, sau đó tính tổng điểm và in kết quả ra màn hình"
   ]
  },
  {
   "cell_type": "code",
   "execution_count": 16,
   "id": "095535a9",
   "metadata": {},
   "outputs": [
    {
     "name": "stdout",
     "output_type": "stream",
     "text": [
      "Nhập điểm kiểm tra: 10\n",
      "Nhập điểm thi giữa kỳ: 10\n",
      "Nhập điểm thi cuối kỳ: 10\n",
      "Tổng điểm: 30\n"
     ]
    }
   ],
   "source": [
    "a = int(input(\"Nhập điểm kiểm tra: \"))\n",
    "b = int(input(\"Nhập điểm thi giữa kỳ: \"))\n",
    "c = int(input(\"Nhập điểm thi cuối kỳ: \"))\n",
    "print(\"Tổng điểm:\", a+b+c)"
   ]
  },
  {
   "cell_type": "markdown",
   "id": "076b8074",
   "metadata": {},
   "source": [
    "## Bài Tập 3"
   ]
  },
  {
   "cell_type": "raw",
   "id": "f385af0b",
   "metadata": {},
   "source": [
    "Viết chương chình nhập vào vận tốc và thời gian của xe chạy của xe taxi </p>\n",
    "yêu cầu 1 :tính quãng đường xe chạy được bao nhiêu km.</p>\n",
    "yêu cầu 2 : đổi km về m </p>\n",
    "yêu cầu 3 : cho biết cứ mỗi 1 km thì được tính với giá cước là 23000 đồng ,hãy tính tổng số tiền khách phải trả."
   ]
  },
  {
   "cell_type": "code",
   "execution_count": 37,
   "id": "4804af77",
   "metadata": {},
   "outputs": [
    {
     "name": "stdout",
     "output_type": "stream",
     "text": [
      "Vận tốc của taxi: 1\n",
      "Thời gian chạy của taxi: 3\n",
      "Quãng đường xe chạy được là:  3 km\n",
      "Quãng đường xe chạy được là:  3000 m\n",
      "Tổng số tiền khách phải trả là: 69000 vnd\n"
     ]
    }
   ],
   "source": [
    "v = int(input(\"Vận tốc của taxi: \"))\n",
    "t = int(input(\"Thời gian chạy của taxi: \"))\n",
    "print(\"Quãng đường xe chạy được là: \", v*t, \"km\")\n",
    "print(\"Quãng đường xe chạy được là: \", v*t*1000, \"m\")\n",
    "print(\"Tổng số tiền khách phải trả là:\",v*t*23000, \"vnd\")\n"
   ]
  },
  {
   "cell_type": "markdown",
   "id": "14e3f09c",
   "metadata": {},
   "source": [
    "## Bài Tập 4"
   ]
  },
  {
   "cell_type": "markdown",
   "id": "07a5d8a0",
   "metadata": {},
   "source": [
    "Nhập vào một string và một số x ,hãy xóa x ký tự đầu tiên của string </p>\n",
    "ví dụ : string = \"hello python\" ,x = 3 </p>\n",
    "    output: \"lo python\""
   ]
  },
  {
   "cell_type": "code",
   "execution_count": 46,
   "id": "b1465df0",
   "metadata": {},
   "outputs": [
    {
     "name": "stdout",
     "output_type": "stream",
     "text": [
      "Nhập số lượng kí tự muốn xóa của string: 3\n",
      "lo python\n"
     ]
    }
   ],
   "source": [
    "str = \"hello python\"\n",
    "x = int(input(\"Nhập số lượng kí tự muốn xóa của string: \"))\n",
    "print(str[x:])"
   ]
  },
  {
   "cell_type": "markdown",
   "id": "1cd79c05",
   "metadata": {},
   "source": [
    "## Bài Tập 5"
   ]
  },
  {
   "cell_type": "markdown",
   "id": "d0956054",
   "metadata": {},
   "source": [
    "Nhập vào một string ,hãy kiểm tra đây có phải là một string đối xứng không</p>\n",
    "Lưu ý : chuối đối xứng là chuối có thứ tự giống nhau khi đọc từ trái sáng phải hoặc ngược lại</p>\n",
    "vd : abba , abcddcba"
   ]
  },
  {
   "cell_type": "code",
   "execution_count": 27,
   "id": "43d5c2eb",
   "metadata": {},
   "outputs": [
    {
     "name": "stdout",
     "output_type": "stream",
     "text": [
      "Nhập chuỗi kí tự bất kì: abbcca\n",
      "Chuỗi đã cho không đối xứng.\n"
     ]
    }
   ],
   "source": [
    "def chuoi_doi_xung(str):\n",
    "    if str[::-1]==str:\n",
    "        return True\n",
    "    return False\n",
    "str = input(\"Nhập chuỗi kí tự bất kì: \")\n",
    "if chuoi_doi_xung(str) is True:\n",
    "    print(\"Chuỗi đã cho đối xứng.\")\n",
    "else:\n",
    "    print(\"Chuỗi đã cho không đối xứng.\")"
   ]
  },
  {
   "cell_type": "code",
   "execution_count": 45,
   "id": "0e52eff9",
   "metadata": {},
   "outputs": [
    {
     "name": "stdout",
     "output_type": "stream",
     "text": [
      "Nhập string: abbcca\n",
      "False\n"
     ]
    }
   ],
   "source": [
    "str = input(\"Nhập string: \")\n",
    "r_str = str[::-1]\n",
    "print(str == r_str)"
   ]
  },
  {
   "cell_type": "markdown",
   "id": "2d88272f",
   "metadata": {},
   "source": [
    "## Bài Tập 6 "
   ]
  },
  {
   "cell_type": "markdown",
   "id": "ba2c57ba",
   "metadata": {},
   "source": [
    "Nhập vào một chuỗi string gồm 5 chữ và thực hiện các thao tác :</p>\n",
    "    in ra đổi 2 chữ đầu tiên</p>\n",
    "    in ra chuỗi đó đều in thường</p>\n",
    "    in ra chuỗi đó đều in hoa</p>\n",
    "    in cắt chuỗi đó thành nhiều chuỗi nhỏ</p>\n",
    "    in cắt đó thành những từ có nghĩa</p>\n",
    "    "
   ]
  },
  {
   "cell_type": "code",
   "execution_count": 4,
   "id": "a86cc73b",
   "metadata": {},
   "outputs": [
    {
     "name": "stdout",
     "output_type": "stream",
     "text": [
      "Bài Học Cơ Bản Python\n",
      "nhập môn cơ bản python\n",
      "NHẬP MÔN CƠ BẢN PYTHON\n",
      "['Nhập', 'Môn', 'Cơ', 'Bản', 'Python']\n",
      "Cơ Bản\n"
     ]
    }
   ],
   "source": [
    "str = \"Nhập Môn Cơ Bản Python\"\n",
    "#in ra đổi 2 chữ đầu tiên\n",
    "str1 = str.replace(\"Nhập Môn\", \"Bài Học\")\n",
    "print(str1)\n",
    "#in ra chuỗi đều in thường\n",
    "print(str.lower())\n",
    "#in ra chuỗi đều in hoa\n",
    "print(str.upper())\n",
    "#in cắt chuỗi đó thành nhiều chuỗi nhỏ\n",
    "print(str.split())\n",
    "#in cắt chuỗi đó thành những từ có nghĩa\n",
    "print(str[9:15])"
   ]
  },
  {
   "cell_type": "markdown",
   "id": "a562eb4b",
   "metadata": {},
   "source": [
    "## Bài Tập 7"
   ]
  },
  {
   "cell_type": "markdown",
   "id": "fe077b04",
   "metadata": {},
   "source": [
    "Nhập vào 2 chuỗi , chuỗi 1 là Họ và tên đệm, chuỗi 2 là tên của mình </p>\n",
    "Yêu cầu : nối 2 chuỗi lại hoàn chỉnh </p>\n",
    "    vd : Họ tên đêm : Nguyễn Văn </p>\n",
    "        Tên : A</p>\n",
    "     output: Nguyễn Văn A"
   ]
  },
  {
   "cell_type": "code",
   "execution_count": 20,
   "id": "c7787a7c",
   "metadata": {},
   "outputs": [
    {
     "name": "stdout",
     "output_type": "stream",
     "text": [
      "Họ và tên đệm: nguyễn văn\n",
      "Tên: A\n",
      "nguyễn văn A\n"
     ]
    }
   ],
   "source": [
    "str1 = input(\"Họ và tên đệm: \")\n",
    "str2 = input(\"Tên: \")\n",
    "print(str1+\" \"+str2)"
   ]
  },
  {
   "cell_type": "code",
   "execution_count": null,
   "id": "bff89151",
   "metadata": {},
   "outputs": [],
   "source": []
  }
 ],
 "metadata": {
  "kernelspec": {
   "display_name": "Python 3 (ipykernel)",
   "language": "python",
   "name": "python3"
  },
  "language_info": {
   "codemirror_mode": {
    "name": "ipython",
    "version": 3
   },
   "file_extension": ".py",
   "mimetype": "text/x-python",
   "name": "python",
   "nbconvert_exporter": "python",
   "pygments_lexer": "ipython3",
   "version": "3.9.13"
  }
 },
 "nbformat": 4,
 "nbformat_minor": 5
}
