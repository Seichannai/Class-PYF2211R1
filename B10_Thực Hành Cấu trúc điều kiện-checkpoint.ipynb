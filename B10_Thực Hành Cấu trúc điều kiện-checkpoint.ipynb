{
 "cells": [
  {
   "cell_type": "markdown",
   "id": "708131ba",
   "metadata": {},
   "source": [
    "# Thực Hành Cấu Trúc điều kiện"
   ]
  },
  {
   "cell_type": "markdown",
   "id": "5c195788",
   "metadata": {},
   "source": [
    "## Đề 1"
   ]
  },
  {
   "cell_type": "markdown",
   "id": "fc969f36",
   "metadata": {},
   "source": [
    "Bài 1: Viết một chương trình xác định một năm có phải năm nhuận hay không ?"
   ]
  },
  {
   "cell_type": "code",
   "execution_count": 6,
   "id": "948275f5",
   "metadata": {},
   "outputs": [
    {
     "name": "stdout",
     "output_type": "stream",
     "text": [
      "Nhập năm: 2023\n",
      "Đây không phải là năm nhuận.\n"
     ]
    }
   ],
   "source": [
    "#Nếu năm đó chia hết cho 400 or ((năm đó chia hết cho 4) and \n",
    "#(năm đó không chia hết cho 100))\n",
    "year = int(input(\"Nhập năm: \"))\n",
    "if (year % 4 == 0) and ((year%100 != 0) or (year%400 == 0)) :\n",
    "    print(\"Đây là năm nhuận.\")\n",
    "else:\n",
    "    print(\"Đây không phải là năm nhuận.\")\n",
    "    "
   ]
  },
  {
   "cell_type": "markdown",
   "id": "fdac64f0",
   "metadata": {},
   "source": [
    "Bài 2: Viết một chương trình để tính toán hệ số BMI (chỉ số khối cơ thể) của một người dựa trên cân nặng và chiều cao của họ."
   ]
  },
  {
   "cell_type": "code",
   "execution_count": 1,
   "id": "4ea6572d",
   "metadata": {},
   "outputs": [
    {
     "name": "stdout",
     "output_type": "stream",
     "text": [
      "Nhập chiều cao đơn vị m: 1.57\n",
      "Nhập cân nặng kg:42\n",
      "Chỉ số BMI của bạn là:  17.03923080043815\n",
      "Bạn đang gầy\n"
     ]
    }
   ],
   "source": [
    "h = float(input(\"Nhập chiều cao đơn vị m: \"))\n",
    "w = float(input(\"Nhập cân nặng kg:\"))\n",
    "BMI = w/(h*h)\n",
    "print(\"Chỉ số BMI của bạn là: \",BMI)\n",
    "\n",
    "# Xác định mức độ gầy hay béo theo hệ số BMI\n",
    "if BMI < 18.5:\n",
    "    print(\"Bạn đang gầy\")\n",
    "elif BMI < 25:\n",
    "    print(\"Bạn có cân nặng bình thường\")\n",
    "elif BMI < 30:\n",
    "    print(\"Bạn béo phì độ 1\")\n",
    "else:\n",
    "    print(\"Bạn béo phì độ 2 hoặc 3\")"
   ]
  },
  {
   "cell_type": "markdown",
   "id": "5e927ffe",
   "metadata": {},
   "source": [
    "Bài 3: Viết một chương trình để tính tuổi của một người dựa trên ngày sinh của họ, phân họ ra làm các nhóm tuổi trẻ em (0->14),Thanh niên (15 - 30) , Trung niên (30 - 59), Cao niên (lớn hơn bằng 60)"
   ]
  },
  {
   "cell_type": "code",
   "execution_count": 2,
   "id": "ae4bf07a",
   "metadata": {},
   "outputs": [
    {
     "name": "stdout",
     "output_type": "stream",
     "text": [
      "Nhập năm sinh: 1985\n",
      "Nhập tháng sinh: 4\n",
      "Nhập ngày sinh: 27\n",
      "Số tuổi của bạn là: 37\n",
      "Bạn thuộc nhóm Trung niên\n"
     ]
    }
   ],
   "source": [
    "import datetime\n",
    "\n",
    "# Nhập ngày sinh\n",
    "year = int(input(\"Nhập năm sinh: \"))\n",
    "month = int(input(\"Nhập tháng sinh: \"))\n",
    "day = int(input(\"Nhập ngày sinh: \"))\n",
    "\n",
    "# Tính số ngày từ ngày sinh đến hiện tại\n",
    "today = datetime.datetime.today()\n",
    "birthday = datetime.datetime(year, month, day)\n",
    "age_in_days = (today - birthday).days\n",
    "\n",
    "# Tính tuổi theo năm\n",
    "age_in_years = age_in_days // 365\n",
    "\n",
    "# In tuổi và nhóm tuổi\n",
    "print(f\"Số tuổi của bạn là: {age_in_years}\")\n",
    "if age_in_years < 15:\n",
    "    print(\"Bạn thuộc nhóm Trẻ em\")\n",
    "elif age_in_years < 31:\n",
    "    print(\"Bạn thuộc nhóm Thanh niên\")\n",
    "elif age_in_years < 60:\n",
    "    print(\"Bạn thuộc nhóm Trung niên\")\n",
    "else:\n",
    "    print(\"Bạn thuộc nhóm Cao niên\")\n"
   ]
  },
  {
   "cell_type": "markdown",
   "id": "5a20b751",
   "metadata": {},
   "source": [
    "Bài 4 :Viết một chương trình để xác định xem một số có phải là số nguyên tố hay không."
   ]
  },
  {
   "cell_type": "code",
   "execution_count": 3,
   "id": "e1f85de7",
   "metadata": {},
   "outputs": [
    {
     "name": "stdout",
     "output_type": "stream",
     "text": [
      "Nhập một số nguyên: 3\n",
      "Đây là số nguyên tố\n"
     ]
    },
    {
     "data": {
      "text/plain": [
       "True"
      ]
     },
     "execution_count": 3,
     "metadata": {},
     "output_type": "execute_result"
    }
   ],
   "source": [
    "#Số nguyên tố là tập hợp của những số tự nhiên \n",
    "#chỉ chia hết cho số 1 và chính nó.\n",
    "def ngto(n, div = None):\n",
    "    if div is None:\n",
    "        div = n - 1\n",
    "    while div >= 2:\n",
    "        if n % div == 0:\n",
    "            print(\"Đây không phải là số nguyên tố.\")\n",
    "            return False\n",
    "        else:\n",
    "            return ngto(n, div-1)\n",
    "    else:\n",
    "        print(\"Đây là số nguyên tố\")\n",
    "        return True\n",
    "n = int(input(\"Nhập một số nguyên: \"))\n",
    "ngto(n)"
   ]
  },
  {
   "cell_type": "code",
   "execution_count": 4,
   "id": "a2e94f9b",
   "metadata": {},
   "outputs": [
    {
     "name": "stdout",
     "output_type": "stream",
     "text": [
      "Nhập số cần kiểm tra: 3\n",
      "3 là số nguyên tố\n"
     ]
    }
   ],
   "source": [
    "# bài thầy giải - Nhập số cần kiểm tra\n",
    "number = int(input(\"Nhập số cần kiểm tra: \"))\n",
    "\n",
    "# Nếu số nhập vào là 0 hoặc 1, in ra kết quả và kết thúc chương trình\n",
    "if number == 0 or number == 1:\n",
    "    print(f\"{number} không phải là số nguyên tố\")\n",
    "    exit()\n",
    "\n",
    "# Duyệt từ 2 đến căn bậc 2 của số cần kiểm tra\n",
    "for i in range(2, int(number ** 0.5) + 1):\n",
    "    # Nếu số có ước, in ra kết quả và kết thúc chương trình\n",
    "    if number % i == 0:\n",
    "        print(f\"{number} không phải là số nguyên tố\")\n",
    "        exit()\n",
    "\n",
    "# Nếu sau khi duyệt hết không có ước, in ra kết quả\n",
    "print(f\"{number} là số nguyên tố\")"
   ]
  },
  {
   "cell_type": "markdown",
   "id": "47127f74",
   "metadata": {},
   "source": [
    "Bài 5:  Viết chương trình kiểm tra bộ ba số a, b, c nhập vào từ bàn phím có phải là bộ ba cạnh của một tam giác hay không?"
   ]
  },
  {
   "cell_type": "code",
   "execution_count": 13,
   "id": "c9886361",
   "metadata": {},
   "outputs": [
    {
     "name": "stdout",
     "output_type": "stream",
     "text": [
      "Nhập số thứ nhất: 1\n",
      "Nhập số thứ hai: 100\n",
      "Nhập số thứ ba: 300\n",
      "Đây không phải là 3 cạnh của 1 tam giác.\n"
     ]
    }
   ],
   "source": [
    "#Điều kiện tạo thành 1 tam giác khi tổng 2 cạnh lớn hơn hoặc bằng cạnh còn lại.\n",
    "a = int(input(\"Nhập số thứ nhất: \"))\n",
    "b = int(input(\"Nhập số thứ hai: \"))\n",
    "c = int(input(\"Nhập số thứ ba: \"))\n",
    "if a+b>c and a+c>b and b+c>a :\n",
    "    print(\"Đây là 3 cạnh của 1 tam giác.\")\n",
    "else:\n",
    "    print(\"Đây không phải là 3 cạnh của 1 tam giác.\")"
   ]
  },
  {
   "attachments": {
    "image.png": {
     "image/png": "[encoded data removed]"
    }
   },
   "cell_type": "markdown",
   "id": "e74a56ef",
   "metadata": {},
   "source": [
    "Bài 6 ** Viết chương trình tính phương trình bậc 3 ![image.png](attachment:image.png)"
   ]
  },
  {
   "cell_type": "code",
   "execution_count": null,
   "id": "6da6b13c",
   "metadata": {},
   "outputs": [],
   "source": [
    "import math\n",
    "\n",
    "# Nhập các hệ số a, b, c, d của phương trình\n",
    "a = float(input(\"Nhập hệ số a: \"))\n",
    "b = float(input(\"Nhập hệ số b: \"))\n",
    "c = float(input(\"Nhập hệ số c: \"))\n",
    "d = float(input(\"Nhập hệ số d: \"))\n",
    "\n",
    "# Tính delta\n",
    "delta = 18*a*b*c*d - 4*b**3*d + b**2*c**2 - 4*a*c**3 - 27*a**2*d**2\n",
    "\n",
    "# Nếu delta = 0, phương trình có 3 nghiệm giống nhau\n",
    "if delta == 0:\n",
    "    x = -b / (3*a)\n",
    "    print(f\"Phương trình có 3 nghiệm giống nhau x = {x}\")\n",
    "\n",
    "# Nếu delta < 0, phương trình có 3 nghiệm khác nhau\n",
    "elif delta < 0:\n",
    "    r = -b / (3*a)\n",
    "    t = -cmath.sqrt(-delta) / (3*a)\n",
    "    x1 = r + t\n",
    "    x2 = r - t\n",
    "    x3 = r\n",
    "    print(f\"Phương trình có 3 nghiệm khác nhau x1 = {x1}, x2 = {x2} và x3 = {x3}\")\n",
    "\n",
    "# Nếu delta > 0, phương trình có 1 nghiệm\n",
    "else:\n",
    "    x = (-b + math.sqrt(delta)) / (3*a)\n",
    "    print(f\"Phương trình có 1 nghiệm duy nhất x = {x}\")\n"
   ]
  },
  {
   "cell_type": "markdown",
   "id": "e853af3e",
   "metadata": {},
   "source": [
    "## Đề 2"
   ]
  },
  {
   "cell_type": "markdown",
   "id": "e15f8e23",
   "metadata": {},
   "source": [
    "Bài 1: Viết một chương trình để tính tổng của tất cả các số nguyên tố trong khoảng từ 1 đến một số nhập vào."
   ]
  },
  {
   "cell_type": "code",
   "execution_count": 1,
   "id": "bc8e659a",
   "metadata": {},
   "outputs": [
    {
     "name": "stdout",
     "output_type": "stream",
     "text": [
      "Nhập số n: 56\n",
      "2\n",
      "3\n",
      "5\n",
      "7\n",
      "11\n",
      "13\n",
      "17\n",
      "19\n",
      "23\n",
      "29\n",
      "31\n",
      "37\n",
      "41\n",
      "43\n",
      "47\n",
      "53\n",
      "Tính tổng tất cả các SNT là:  381\n"
     ]
    }
   ],
   "source": [
    "def ngto(n):\n",
    "    so_ng = True\n",
    " \n",
    "    if (n < 2):\n",
    "        so_ng = False\n",
    "    elif (n == 2):\n",
    "        so_ng = True\n",
    "    elif (n % 2 == 0):\n",
    "        so_ng = False\n",
    "    else:\n",
    "        for i in range(3, n, 2):\n",
    "            if (n % i == 0):\n",
    "                so_ng = False\n",
    " \n",
    "    return so_ng\n",
    " \n",
    "# Chương trình chính\n",
    "tong = 0\n",
    "nhap = int(input(\"Nhập số n: \"))\n",
    "for i in range(0, nhap):\n",
    "    if (ngto(i)):\n",
    "        print(i)\n",
    "        tong += i\n",
    " \n",
    "print(\"Tính tổng tất cả các số nguyên tố là: \", tong)\n"
   ]
  },
  {
   "cell_type": "markdown",
   "id": "345d337a",
   "metadata": {},
   "source": [
    "Bài 2 :Giả sử có một chiếc xe đang lưu thông trên đường , gặp một ngã tư ,có một đèn tín hiệu giao thông, Hãy viết chương trình để điều khiển giao thông ở nut giao đó."
   ]
  },
  {
   "cell_type": "code",
   "execution_count": 2,
   "id": "189cc984",
   "metadata": {},
   "outputs": [
    {
     "name": "stdout",
     "output_type": "stream",
     "text": [
      "Đèn giao thông hiển thị màu: đỏ\n",
      "Xe phải dừng lại\n"
     ]
    }
   ],
   "source": [
    "den_giao_thong = input(\"Đèn giao thông hiển thị màu: \")\n",
    "\n",
    "if den_giao_thong == \"xanh\": \n",
    "    print(\"Xe được phép lưu thông\")\n",
    "elif den_giao_thong == \"vàng\":\n",
    "    print(\"Xe chuẩn bị dừng\")\n",
    "else den_giao_thong == \"đỏ\":\n",
    "    print(\"Xe phải dừng lại\")"
   ]
  },
  {
   "cell_type": "markdown",
   "id": "1b18a69e",
   "metadata": {},
   "source": [
    "Bài 3: Viết một chương trình yêu cầu dự báo thời tiết ngày mai và sau đó gợi ý quần áo phù hợp với thời tiết. Đề xuất sẽ thay đổi nếu nhiệt độ (được đo bằng độ C) là trên 20, 10 hoặc 5 độ, và nếu có mưa trên radar."
   ]
  },
  {
   "cell_type": "code",
   "execution_count": 10,
   "id": "ef2e7b7e",
   "metadata": {},
   "outputs": [
    {
     "name": "stdout",
     "output_type": "stream",
     "text": [
      "Nhập nhiệt độ hiện tại: 3\n",
      "Thời tiết ngày mai:\n",
      "Khí hậu lạnh, nên mặc đồ ấm áp\n",
      "Có thể không mưa\n"
     ]
    }
   ],
   "source": [
    "nhiet_do = int(input(\"Nhập nhiệt độ hiện tại: \" ))\n",
    "thoi_tiet = False\n",
    "\n",
    "print(\"Thời tiết ngày mai:\")\n",
    "if nhiet_do > 20 :\n",
    "    print(\"Khí hậu nóng, nên mặc thoáng mát.\")\n",
    "elif nhiet_do > 10 :\n",
    "    print(\"Khí hậu mát mẻ, nên mặc đẹp đi chơi.\")\n",
    "else :\n",
    "    print(\"Khí hậu lạnh, nên mặc đồ ấm áp.\")\n",
    "\n",
    "if thoi_tiet:\n",
    "    print(\"Có thể có mưa, nên mang theo áo mưa hoặc ô\")\n",
    "else :\n",
    "    print(\"Có thể không mưa\")"
   ]
  },
  {
   "cell_type": "markdown",
   "id": "bcefbd69",
   "metadata": {},
   "source": [
    "Bài 4 : Viết chương trình thực hiện thông báo cho người sử dụng nhập vào giá trị ba số nguyên và tìm giá trị lớn nhất trong ba giá trị này"
   ]
  },
  {
   "cell_type": "code",
   "execution_count": 3,
   "id": "d7d1ebb1",
   "metadata": {},
   "outputs": [
    {
     "name": "stdout",
     "output_type": "stream",
     "text": [
      "Nhập số nguyên thứ nhất: 2\n",
      "Nhập số nguyên thứ hai: 5\n",
      "Nhập số nguyên thứ ba: 1\n",
      "Số nguyên lớn nhất là:  5\n"
     ]
    }
   ],
   "source": [
    "a = int(input(\"Nhập số nguyên thứ nhất: \"))\n",
    "b = int(input(\"Nhập số nguyên thứ hai: \"))\n",
    "c = int(input(\"Nhập số nguyên thứ ba: \"))\n",
    "max = a\n",
    "if b > max :\n",
    "    max = b\n",
    "if c > max :\n",
    "    max = c\n",
    "print(\"Số nguyên lớn nhất là: \", max)"
   ]
  },
  {
   "cell_type": "markdown",
   "id": "450a22f3",
   "metadata": {},
   "source": [
    "Bài 5:  Viết chương trình nhập vào 3 số thực dương bất kỳ, xuất ra màn hình đó là tam giác thường, tam giác cân, tam giác vuông, tam giác vuông cân, tam giác đều hay không phải là ba cạnh của một tam giác?"
   ]
  },
  {
   "cell_type": "code",
   "execution_count": 12,
   "id": "64a7a8f3",
   "metadata": {},
   "outputs": [
    {
     "name": "stdout",
     "output_type": "stream",
     "text": [
      "Nhập số thứ nhất: 30\n",
      "Nhập số thứ hai: 30\n",
      "Nhập số thứ ba: 30\n",
      "Đây là tam giác đều.\n"
     ]
    }
   ],
   "source": [
    "#Điều kiện tạo thành 1 tam giác khi tổng 2 cạnh lớn hơn hoặc bằng cạnh còn lại.\n",
    "a = int(input(\"Nhập số thứ nhất: \"))\n",
    "b = int(input(\"Nhập số thứ hai: \"))\n",
    "c = int(input(\"Nhập số thứ ba: \"))\n",
    "if a+b>c and a+c>b and b+c>a :\n",
    "    if a == b == c:\n",
    "        print(\"Đây là tam giác đều.\")\n",
    "    elif a == b or a == c or b == c:\n",
    "        print(\"Đây là tam giác cân.\")\n",
    "    elif a ** 2 + b ** 2 == c ** 2 or a ** 2 + c ** 2 == b ** 2 or b ** 2 + c ** 2 == a ** 2:\n",
    "        print(\"Đây là tam giác vuông cân.\")\n",
    "    elif a == b or a == c or b == c:\n",
    "        print(\"Đây là tam giác thường.\")\n",
    "    else:\n",
    "        print(\"Đây là tam giác vuông.\")\n",
    "else:\n",
    "    print(\"Đây không phải là 3 cạnh của 1 tam giác.\")\n"
   ]
  },
  {
   "cell_type": "markdown",
   "id": "fde5b970",
   "metadata": {},
   "source": [
    "Bài 6 ** Viết chương trình để giải 1 câu đố cổ của Trung Quốc: Một trang trại thỏ và gà có 35 đầu, 94 chân, hỏi số thỏ và gà là bao nhiêu?\n",
    "(khuyến khích sài vòng lặp for nếu biết)"
   ]
  },
  {
   "cell_type": "code",
   "execution_count": 20,
   "id": "64a73ba9",
   "metadata": {},
   "outputs": [
    {
     "name": "stdout",
     "output_type": "stream",
     "text": [
      "Nhập số đầu: 34\n",
      "Nhập số chân: 94\n",
      "Số thỏ là:  13\n",
      "Số gà là:  21\n"
     ]
    }
   ],
   "source": [
    "x = int(input(\"Nhập số đầu: \"))\n",
    "y = int(input(\"Nhập số chân: \"))\n",
    "for i in range(x+1):\n",
    "    j = x-i\n",
    "    if 4 * i + 2 * j == y:\n",
    "        print(\"Số thỏ là: \", i)\n",
    "        print(\"Số gà là: \", j)\n",
    "        break\n",
    "else:\n",
    "    print(\"Không có đáp án đúng.\")"
   ]
  },
  {
   "cell_type": "markdown",
   "id": "490ee030",
   "metadata": {},
   "source": [
    "## Đề 3 "
   ]
  },
  {
   "cell_type": "markdown",
   "id": "57b4126e",
   "metadata": {},
   "source": [
    "Bài 1: Dãy Fibonacci được tính dựa trên công thức sau:</p>\n",
    "\n",
    "f(n)=0 nếu n=0</p>\n",
    "f(n)=1 nếu n=1</p>\n",
    "f(n)=f(n-1)+f(n-2) nếu n>1</p>\n",
    "Hãy viết chương trình tính giá trị của f(n) với n là số được người dùng nhập vào. Ví dụ: Nếu n được nhập vào là 7 thì đầu ra của chương trình sẽ là 13"
   ]
  },
  {
   "cell_type": "code",
   "execution_count": 34,
   "id": "8b76c3d2",
   "metadata": {},
   "outputs": [
    {
     "name": "stdout",
     "output_type": "stream",
     "text": [
      "Nhập số n: 7\n",
      "13\n"
     ]
    }
   ],
   "source": [
    "def fibonacci(n):\n",
    "    if n == 0: \n",
    "        return 0\n",
    "    elif n == 1: \n",
    "        return 1\n",
    "    else: \n",
    "        return fibonacci(n-1)+fibonacci(n-2)\n",
    "n=int(input(\"Nhập số n: \"))\n",
    "print (fibonacci(n))"
   ]
  },
  {
   "cell_type": "markdown",
   "id": "b272aa6d",
   "metadata": {},
   "source": [
    "Bài 2 : Hãy viết chương trình nhập vào số nguyên dương n. Kiểm tra xem n có phải là số\n",
    "chính phương hay không? (số chính phương là số khi lấy căn bậc 2 có kết quả là\n",
    "nguyên). Hãy viết chương trình kiểm tra số chính phương."
   ]
  },
  {
   "cell_type": "code",
   "execution_count": 28,
   "id": "7b884ea0",
   "metadata": {},
   "outputs": [
    {
     "name": "stdout",
     "output_type": "stream",
     "text": [
      "Nhập số nguyên dương a: 49\n",
      "True\n"
     ]
    }
   ],
   "source": [
    "import math\n",
    "a = int(input(\"Nhập số nguyên dương a: \"))\n",
    "def chinh_phuong(a):\n",
    "    if a<0:\n",
    "        return False\n",
    "    elif a == 0:\n",
    "        return True\n",
    "    else:\n",
    "        x = int(math.sqrt(a))\n",
    "        return x*x == a\n",
    "print(chinh_phuong(a))"
   ]
  },
  {
   "cell_type": "markdown",
   "id": "ba743590",
   "metadata": {},
   "source": [
    "Bài 3: Kiểm tra mùa trong năm xem tháng mấy là Thu, Đông, Xuân hay Hè. Nếu thông tin người dùng nhập là: Tháng 9, 10 hoặc 11 thì mùa là Thu; Tháng 12, tháng 01 hoặc 02 thì mùa Đông; Tháng 3, tháng 4 hoặc tháng 5 thì mùa Xuân; Tháng 6, tháng 7 hoặc tháng 8 thì mùa Hạ."
   ]
  },
  {
   "cell_type": "code",
   "execution_count": 21,
   "id": "62a724f7",
   "metadata": {},
   "outputs": [
    {
     "name": "stdout",
     "output_type": "stream",
     "text": [
      "Nhập tháng: 5\n",
      "Đây là mùa xuân.\n"
     ]
    }
   ],
   "source": [
    "thang = int(input(\"Nhập tháng: \"))\n",
    "if thang in [3,4,5]:\n",
    "    print(\"Đây là mùa xuân.\")\n",
    "elif thang in [6,7,8]:\n",
    "    print(\"Đây là mùa hạ.\")\n",
    "elif thang in [9,10,11]:\n",
    "    print(\"Đây là mùa xuân.\")\n",
    "elif thang in [12,1,2]:\n",
    "    print(\"Đây là mùa xuân.\")"
   ]
  },
  {
   "cell_type": "markdown",
   "id": "e0bc1dbb",
   "metadata": {},
   "source": [
    "Bài 4: Giải phương trình bậc nhất ax+b=0 (với a, b là kiểu số nguyên)."
   ]
  },
  {
   "cell_type": "code",
   "execution_count": 4,
   "id": "ead1b597",
   "metadata": {},
   "outputs": [
    {
     "name": "stdout",
     "output_type": "stream",
     "text": [
      "Nhập số a: 0\n",
      "Vui lòng nhập lại số a khác 0: 3\n",
      "Nhập số b: 4\n",
      "Nghiệm của phương trình là x = : -1.3333333333333333\n"
     ]
    }
   ],
   "source": [
    "a = int(input(\"Nhập số a: \"))\n",
    "while True:\n",
    "    if a == 0:\n",
    "        a = int(input(\"Vui lòng nhập lại số a khác 0: \"))\n",
    "    else:\n",
    "        break\n",
    "b = int(input(\"Nhập số b: \"))\n",
    "print(\"Nghiệm của phương trình là x = :\",-b/a)"
   ]
  },
  {
   "cell_type": "markdown",
   "id": "a875c355",
   "metadata": {},
   "source": [
    "Bài 4: Giá bán cam tại siêu thị tính như sau: nếu khối lượng cam mua dưới 5kg thì giá bán là 12 000 đồng/kg, nếu khối lượng mua lớn hơn hoặc bằng 5kg thì giá bán là 10 000 đồng/kg. Viết chương trình nhập số lượng mua (tính theo kg) sau đó tính số tiền phải trả."
   ]
  },
  {
   "cell_type": "code",
   "execution_count": 29,
   "id": "d7b0138a",
   "metadata": {},
   "outputs": [
    {
     "name": "stdout",
     "output_type": "stream",
     "text": [
      "Nhập số lượng cam theo kg: 10\n",
      "100000\n"
     ]
    }
   ],
   "source": [
    "n = int(input(\"Nhập số lượng cam theo kg: \"))\n",
    "def gia_cam(n):\n",
    "    if n<5:\n",
    "        return n *12000\n",
    "    else:\n",
    "        return n*10000\n",
    "print(gia_cam(n))"
   ]
  },
  {
   "cell_type": "markdown",
   "id": "69105c22",
   "metadata": {},
   "source": [
    "Bài 5** : viết chương trình chia thành 2 bảng A và B đấu ở Aff CUP 2022 và tính điểm(Thắng 3đ ,Bại 0đ,Hòa 1đ) thi đấu theo thể thức vòng tròn.</p>  Mỗi bảng đấu lấy 2 đội nhất và nhì bảng để thi đấu tiếp vào vòng bán kết ,đội nhất bảng A sẽ thi đấu với đội nhì bảng B và ngược lại.</p> Để chọn ra 2 đội xuất sắc nhất thi đấu ở trận chung kết nếu đội nào thắng sẽ là nhà vô địch .</p> Được biết trong danh sách có 10 đội (Thailand,Laos,Campuchia,Singapore,Vietnam, Indonesia, Malaysia, Philippines,Myanmar,Timor-Leste,Brunei) các đội tham gia ,các đội không được trùng nhau ở các bảng đấu."
   ]
  },
  {
   "cell_type": "code",
   "execution_count": null,
   "id": "38b815e6",
   "metadata": {},
   "outputs": [],
   "source": []
  }
 ],
 "metadata": {
  "kernelspec": {
   "display_name": "Python 3 (ipykernel)",
   "language": "python",
   "name": "python3"
  },
  "language_info": {
   "codemirror_mode": {
    "name": "ipython",
    "version": 3
   },
   "file_extension": ".py",
   "mimetype": "text/x-python",
   "name": "python",
   "nbconvert_exporter": "python",
   "pygments_lexer": "ipython3",
   "version": "3.9.13"
  }
 },
 "nbformat": 4,
 "nbformat_minor": 5
}
